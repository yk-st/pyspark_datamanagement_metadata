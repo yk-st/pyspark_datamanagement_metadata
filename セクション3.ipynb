{
 "cells": [
  {
   "cell_type": "markdown",
   "metadata": {},
   "source": [
    "# 本チャプターの目次\n",
    "1. データマネジメントとは何者のなのか？\n",
    "2. メタデータとは？\n",
    "3. ビッグデータ基盤にメタデータが必要な理由\n",
    "4. メタデータを保存するメタデータストアとは\n",
    "5. ビッグデータ基盤におけるメタデータの提供形態\n",
    "6. 3種類存在するメタデータ\n",
    "7. 次のセクションへの導入"
   ]
  },
  {
   "cell_type": "markdown",
   "metadata": {},
   "source": [
    "# データマネジメントとは何者なのか？\n",
    "\n",
    "データマネジメントとは、"
   ]
  },
  {
   "cell_type": "markdown",
   "metadata": {},
   "source": [
    "# メタデータとは？\n",
    "メタデータとは、データの属性を表すデータのことです。  \n",
    "例えば、30という数字だけでは人間は、30という数字が何者なのか判断することができません。  \n",
    "そこで、km/hというメタデータを付けると速度制限か実際の速度なのか？どちらかに絞り込みができるようになってきます。  \n",
    "そしてlimitというメタデータを付けると人は速度制限と理解することが可能になります。  \n",
    "\n",
    "Mysqlの世界であれば　speed_limit_khみたいなカラムの定義になっているイメージを持ってもらえればと思います。\n",
    "\n",
    "この例は後に出てくる、ビジネスメタデータの一例です。\n",
    "メタデータには3種類あり、「ビジネスメタデータ」「テクニカルメタデータ」「オペレーショナルメタデータ」の3種類が存在しています。\n",
    "\n",
    "ビジネスメタデータとは、っっんおこと\n",
    "テクニカルメタデータの例を簡単にあげると、\n",
    "オペレーショナルメタデータの例を簡単にあげると、\n",
    "\n",
    "となります。\n",
    "それぞれのメタデータの取得や説明はセクション４、５、６で行っていきます。"
   ]
  },
  {
   "cell_type": "markdown",
   "metadata": {},
   "source": [
    "# ビッグデータ基盤にメタデータが必要な理由\n",
    "\n",
    "ビッグデータ基盤におけるメタデータの役割は、究極的には生産性の向上です。\n",
    "\n",
    "ビジネスメタデータはいわゆるテーブル定義に近いものですが、普段の開発でもER図などテーブルやデータに関する設計書を残すことが多いと思います(更新されているにしろされていないしろ)  \n",
    "ビッグデータ基盤も同じです。ただし、ビッグデータ基盤は複数のシステムのデータが一堂に会するシステムで利用する人は全社員といったことになるのがほとんどです。  \n",
    "そのため、「少人数の間だけで簡単な設計書を作って共有」というだけは分析という作業は進まないのです。  \n",
    "\n",
    "特にビッグデータを取り巻くシステムが全て統一されたルールで作成されていればいいのですが実際はそうではありません。  \n",
    "ちょっとした違いやちょっとした慣習が混じり合い意味不明になることがほとんどです。  \n",
    "\n",
    "そのためにもデータに関する情報、すなわちメタデータをしっかりと整理していかなければ誰も理解できないただのデータのゴミ置き場になってしまうということです（データの沼と呼ばれることがあります）。  \n",
    "ゴミを漁ってデータ生まれや性質をデータを利用する人が逐一調べていくのは非常に非効率なのと共に不可能なのでまとめた情報を保存する場所が必要になり。  \n",
    "その場所がメタデータストアであり、まとめた情報がメタデータというわけになります。  "
   ]
  },
  {
   "cell_type": "markdown",
   "metadata": {},
   "source": [
    "# メタデータを保存するメタデータストアとは？\n",
    "メタデータストアとは、その名の通りメタデータを保存するデータストアのこと。  \n",
    "ビッグデータ基盤ではこのメタデータストアとデータストアは明確に分離されていることが通例。  \n",
    "例えば、メタデータストアはMysqlでデータストアはAmazon S3といった状況。  \n",
    "\n",
    "メタデータストアといっても特別なものではなく、古くから馴染みのあるMysqlや各種クラウドベンダーが提供しているメタデータを保存するためのマネージドサービスを利用すると良いと思います。  \n",
    "メタデータストアはプラットフォームによって異なる。  \n",
    "\n",
    "オンプレであればMysqlやMariaDBが利用される。  \n",
    "AWSやGCPといったクラウドであればGlue Data CaltalogやDataCatalogが利用される。  \n",
    "\n",
    "どれを選択しても本質部分は同じなので、  \n",
    "利用しているプラットフォームに合わせて選択すると良いと思います。  \n",
    "\n",
    "本コースはより本質の理解や個人のPCで実行可能にするためにMysqlをメタデータストアとして進めていきます。"
   ]
  },
  {
   "cell_type": "markdown",
   "metadata": {},
   "source": [
    "# ビッグデータ基盤におけるメタデータの提供形態\n",
    "メタデータに保存されたメタデータはどのようにユーザに提供されるのか？\n",
    "ビッグデータ基盤においてはメタデータの提供は２パターンで提供されることが多いです。\n",
    "\n",
    "- API(APIといっても超高速なレスポインスを求めるようなAPIではない)\n",
    "- GUI\n",
    "\n",
    "ユーザも、エンジニア、非エンジニアが混在しているためよりエンジニア向けのAPI(非エンジニアももちろん使える)と番人向けのGUIで提供するということが通例です。\n",
    "\n",
    "APIの場合はRESTのAPIでGET table とすればテーブルの定義がAPIとして返却されたり、GUIであればメタデータストアに保存されているデータをユーザに見やすいように整形するといった用途です。\n",
    "\n",
    "今回は表示や取得のところまではコース内に含みませんが、Mysqlにデータを保存しておくことによってAPIとして返却することもGUIとして提供することも可能になります。"
   ]
  },
  {
   "cell_type": "markdown",
   "metadata": {},
   "source": [
    "# 3種類存在するメタデータ\n",
    "前述したように、メタデータには3種類のメタデータが存在しています。\n",
    "\n",
    "「ビジネスメタデータ」「テクニカルメタデータ」「オペレーショナルメタデータ」の３種類です。\n",
    "\n",
    "メタデータの図を乗っける。\n",
    "\n",
    "細かく分けると本コースでは紹介しきれないほどたくさんのメタデータの種類があります。\n",
    "本コースでは幹となる３つのメタデータと、基本となるその中に存在するいくつかのカテゴリを紹介しています。\n",
    "\n",
    "ビジネスメタデータ\n",
    "- テーブル定義\n",
    "\n",
    "テクニカルメタデータ\n",
    "- データプロファイリング\n",
    "\n",
    "オペレーショナルメタデータ\n",
    "- 5w1h\n",
    "- アクセスログ\n",
    "\n",
    "どれかひとつ欠けるだけでも途端に組織の生産性が落ちます。\n",
    "データの利用が注目されている中一部の「強い人」に頼った構築やアウトプットの出し方では将来に所属しているデータ活用そのものが継続できなくなってしまう場合もあるのです。\n",
    "「強くない普通の人」でも自分でデータを見つけて分析を行いアウトプットを出すビッグデータ基盤に求められるのはそんなシステム構成であり、それらを支えるのがメタデータです。"
   ]
  },
  {
   "cell_type": "markdown",
   "metadata": {},
   "source": [
    "# 次セクションへの導入\n",
    "次のセクションよりメタデータを解説及び、ところどころ算出していきます。\n",
    "そのための準備を行います。\n",
    "\n",
    "ここから、注意！！！！  \n",
    "Mysqlのデータベース(とテーブル)とSparkのデータベース(とテーブル)2つが出てきます。  \n",
    "それぞれ区別して記載してありますが、この2つは別物です。  \n",
    "Sparkのデータベース(とテーブル)のテーブル定義などはMysqlに格納されていますが、実データはロケーション\n",
    "「/Users/saitouyuuki/Desktop/src/pyspark_dataprofiling_dataquality/dataset/parquet/」に格納され分離されています。\n",
    "\n",
    "## データの読み込みとテーブルの作成をします※\n",
    "1. jinko.csvを読み込んで表示する\n",
    "2. jinko.csvの内容を保存するSparkテーブルを作成する\n",
    "3. jinko.csvのデータを2で作成したSparkテーブルにInsertする\n",
    "\n",
    "※以下の講座で行った最初の準備の簡略版です。  \n",
    "「データサイエンスのための前処理入門PythonとSparkで学ぶビッグデータエンジニアリング(PySpark) 速習講座」  \n",
    "https://www.udemy.com/course/python-spark-pyspark/?referralCode=E67BF8B61F65866794EB\n"
   ]
  },
  {
   "cell_type": "code",
   "execution_count": 1,
   "metadata": {},
   "outputs": [],
   "source": [
    "# コンソールで設定したSparkとNoteBookを接続します(動かす前に毎度実行する必要があります)\n",
    "import findspark\n",
    "findspark.init()"
   ]
  },
  {
   "cell_type": "code",
   "execution_count": 2,
   "metadata": {},
   "outputs": [
    {
     "name": "stderr",
     "output_type": "stream",
     "text": [
      "Warning: Ignoring non-Spark config property: hive.exec.dynamic.partition.mode\n",
      "Warning: Ignoring non-Spark config property: hive.exec.dynamic.partition\n",
      "Your hostname, yukisaitos-MacBook-Pro.local resolves to a loopback address: 127.0.0.1; using 192.168.0.30 instead (on interface en0)\n",
      "Set SPARK_LOCAL_IP if you need to bind to another address\n",
      "WARNING: An illegal reflective access operation has occurred\n",
      "WARNING: Illegal reflective access by org.apache.spark.unsafe.Platform (file:/opt/homebrew/Cellar/apache-spark/3.2.0/libexec/jars/spark-unsafe_2.12-3.2.0.jar) to constructor java.nio.DirectByteBuffer(long,int)\n",
      "WARNING: Please consider reporting this to the maintainers of org.apache.spark.unsafe.Platform\n",
      "WARNING: Use --illegal-access=warn to enable warnings of further illegal reflective access operations\n",
      "WARNING: All illegal access operations will be denied in a future release\n",
      "Setting default log level to \"WARN\".\n",
      "To adjust logging level use sc.setLogLevel(newLevel). For SparkR, use setLogLevel(newLevel).\n",
      "Unable to load native-hadoop library for your platform... using builtin-java classes where applicable\n",
      "Service 'SparkUI' could not bind on port 4040. Attempting port 4041.\n",
      "Service 'SparkUI' could not bind on port 4041. Attempting port 4042.\n",
      "Service 'SparkUI' could not bind on port 4042. Attempting port 4043.\n"
     ]
    }
   ],
   "source": [
    "#pysparkに必要なライブラリを読み込む\n",
    "from pyspark import SparkConf\n",
    "from pyspark import SparkContext\n",
    "from pyspark.sql import SparkSession\n",
    "\n",
    "#spark sessionの作成\n",
    "# spark.ui.enabled trueとするとSparkのGUI画面を確認することができます\n",
    "# spark.eventLog.enabled true　とすると　GUIで実行ログを確認することができます\n",
    "# GUIなどの確認は最後のセクションで説明を行います。\n",
    "spark = SparkSession.builder \\\n",
    "    .appName(\"chapter1\") \\\n",
    "    .config(\"hive.exec.dynamic.partition\", \"true\") \\\n",
    "    .config(\"hive.exec.dynamic.partition.mode\", \"nonstrict\") \\\n",
    "    .config(\"spark.sql.session.timeZone\", \"JST\") \\\n",
    "    .config(\"spark.ui.enabled\",\"true\") \\\n",
    "    .config(\"spark.eventLog.enabled\",\"true\") \\\n",
    "    .enableHiveSupport() \\\n",
    "    .getOrCreate()\n",
    "\n",
    "\n",
    "# spark.xxxxxと記載することで処理を分散させることが可能です。"
   ]
  },
  {
   "cell_type": "code",
   "execution_count": 3,
   "metadata": {},
   "outputs": [
    {
     "name": "stdout",
     "output_type": "stream",
     "text": [
      "+----+----------------------+-----+------+-------+----+---------+----------+------------+\n",
      "|code|                kenmei|gengo|wareki|seireki| chu|    sokei|jinko_male|jinko_female|\n",
      "+----+----------------------+-----+------+-------+----+---------+----------+------------+\n",
      "|  00|                  全国| 平成|     2|   1990|null|123611167|  60696724|    62914443|\n",
      "|  0A|          人口集中地区| 平成|     2|   1990|null| 78152452|  38564229|    39588223|\n",
      "|  0B|人口集中地区以外の地区| 平成|     2|   1990|null| 45458715|  22132495|    23326220|\n",
      "|  01|                北海道| 平成|     2|   1990|null|  5643647|   2722988|     2920659|\n",
      "|  02|                青森県| 平成|     2|   1990|null|  1482873|    704758|      778115|\n",
      "|  03|                岩手県| 平成|     2|   1990|null|  1416928|    680197|      736731|\n",
      "|  04|                宮城県| 平成|     2|   1990|null|  2248558|   1105103|     1143455|\n",
      "|  05|                秋田県| 平成|     2|   1990|null|  1227478|    584678|      642800|\n",
      "|  06|                山形県| 平成|     2|   1990|null|  1258390|    607041|      651349|\n",
      "|  07|                福島県| 平成|     2|   1990|null|  2104058|   1024354|     1079704|\n",
      "|  08|                茨城県| 平成|     2|   1990|null|  2845382|   1419117|     1426265|\n",
      "|  09|                栃木県| 平成|     2|   1990|null|  1935168|    962571|      972597|\n",
      "|  10|                群馬県| 平成|     2|   1990|null|  1966265|    971704|      994561|\n",
      "|  11|                埼玉県| 平成|     2|   1990|null|  6405319|   3245868|     3159451|\n",
      "|  12|                千葉県| 平成|     2|   1990|null|  5555429|   2802774|     2752655|\n",
      "|  13|                東京都| 平成|     2|   1990|null| 11855563|   5969773|     5885790|\n",
      "|  14|              神奈川県| 平成|     2|   1990|null|  7980391|   4098147|     3882244|\n",
      "|  15|                新潟県| 平成|     2|   1990|null|  2474583|   1200376|     1274207|\n",
      "|  16|                富山県| 平成|     2|   1990|null|  1120161|    538640|      581521|\n",
      "|  17|                石川県| 平成|     2|   1990|null|  1164628|    562684|      601944|\n",
      "+----+----------------------+-----+------+-------+----+---------+----------+------------+\n",
      "only showing top 20 rows\n",
      "\n"
     ]
    }
   ],
   "source": [
    "from pyspark.sql.types import StructType, StructField, StringType\n",
    "from pyspark.sql.functions import col\n",
    "\n",
    "struct = StructType([\n",
    "    StructField(\"code\", StringType(), False),\n",
    "    StructField(\"kenmei\", StringType(), False),\n",
    "    StructField(\"gengo\", StringType(), False),\n",
    "    StructField(\"wareki\", StringType(), False),\n",
    "    StructField(\"seireki\", StringType(), False),\n",
    "    StructField(\"chu\", StringType(), False),\n",
    "    StructField(\"sokei\", StringType(), False),\n",
    "    StructField(\"jinko_male\", StringType(), False),\n",
    "    StructField(\"jinko_female\", StringType(), False)\n",
    "])\n",
    "df=spark.read.option(\"multiLine\", \"true\").option(\"encoding\", \"SJIS\") \\\n",
    "    .csv(\"/Users/saitouyuuki/Desktop/src/pyspark_dataprofiling_dataquality/dataset/jinko.csv\", header=False, sep=',', inferSchema=False,schema=struct)\n",
    "\n",
    "data_t=df.filter(\"code!='都道府県コード'\").filter(\"gengo=='平成'\")\n",
    "\n",
    "data_t.show()\n"
   ]
  },
  {
   "cell_type": "code",
   "execution_count": 4,
   "metadata": {},
   "outputs": [
    {
     "name": "stderr",
     "output_type": "stream",
     "text": [
      "HiveConf of name hive.stats.jdbc.timeout does not exist\n",
      "HiveConf of name hive.stats.retries.wait does not exist\n",
      "Tue Nov 23 11:27:52 JST 2021 WARN: Establishing SSL connection without server's identity verification is not recommended. According to MySQL 5.5.45+, 5.6.26+ and 5.7.6+ requirements SSL connection must be established by default if explicit option isn't set. For compliance with existing applications not using SSL the verifyServerCertificate property is set to 'false'. You need either to explicitly disable SSL by setting useSSL=false, or set useSSL=true and provide truststore for server certificate verification.\n",
      "Tue Nov 23 11:27:52 JST 2021 WARN: Establishing SSL connection without server's identity verification is not recommended. According to MySQL 5.5.45+, 5.6.26+ and 5.7.6+ requirements SSL connection must be established by default if explicit option isn't set. For compliance with existing applications not using SSL the verifyServerCertificate property is set to 'false'. You need either to explicitly disable SSL by setting useSSL=false, or set useSSL=true and provide truststore for server certificate verification.\n",
      "Tue Nov 23 11:27:52 JST 2021 WARN: Establishing SSL connection without server's identity verification is not recommended. According to MySQL 5.5.45+, 5.6.26+ and 5.7.6+ requirements SSL connection must be established by default if explicit option isn't set. For compliance with existing applications not using SSL the verifyServerCertificate property is set to 'false'. You need either to explicitly disable SSL by setting useSSL=false, or set useSSL=true and provide truststore for server certificate verification.\n",
      "Tue Nov 23 11:27:52 JST 2021 WARN: Establishing SSL connection without server's identity verification is not recommended. According to MySQL 5.5.45+, 5.6.26+ and 5.7.6+ requirements SSL connection must be established by default if explicit option isn't set. For compliance with existing applications not using SSL the verifyServerCertificate property is set to 'false'. You need either to explicitly disable SSL by setting useSSL=false, or set useSSL=true and provide truststore for server certificate verification.\n",
      "Tue Nov 23 11:27:52 JST 2021 WARN: Establishing SSL connection without server's identity verification is not recommended. According to MySQL 5.5.45+, 5.6.26+ and 5.7.6+ requirements SSL connection must be established by default if explicit option isn't set. For compliance with existing applications not using SSL the verifyServerCertificate property is set to 'false'. You need either to explicitly disable SSL by setting useSSL=false, or set useSSL=true and provide truststore for server certificate verification.\n",
      "Tue Nov 23 11:27:52 JST 2021 WARN: Establishing SSL connection without server's identity verification is not recommended. According to MySQL 5.5.45+, 5.6.26+ and 5.7.6+ requirements SSL connection must be established by default if explicit option isn't set. For compliance with existing applications not using SSL the verifyServerCertificate property is set to 'false'. You need either to explicitly disable SSL by setting useSSL=false, or set useSSL=true and provide truststore for server certificate verification.\n",
      "Tue Nov 23 11:27:52 JST 2021 WARN: Establishing SSL connection without server's identity verification is not recommended. According to MySQL 5.5.45+, 5.6.26+ and 5.7.6+ requirements SSL connection must be established by default if explicit option isn't set. For compliance with existing applications not using SSL the verifyServerCertificate property is set to 'false'. You need either to explicitly disable SSL by setting useSSL=false, or set useSSL=true and provide truststore for server certificate verification.\n",
      "Tue Nov 23 11:27:52 JST 2021 WARN: Establishing SSL connection without server's identity verification is not recommended. According to MySQL 5.5.45+, 5.6.26+ and 5.7.6+ requirements SSL connection must be established by default if explicit option isn't set. For compliance with existing applications not using SSL the verifyServerCertificate property is set to 'false'. You need either to explicitly disable SSL by setting useSSL=false, or set useSSL=true and provide truststore for server certificate verification.\n",
      "Failed to get database global_temp, returning NoSuchObjectException\n"
     ]
    },
    {
     "data": {
      "text/plain": [
       "DataFrame[]"
      ]
     },
     "execution_count": 4,
     "metadata": {},
     "output_type": "execute_result"
    }
   ],
   "source": [
    "# 定義はMysqlに格納されています（次のセクションで確認を行います）\n",
    "\n",
    "spark.sql(\"\"\" \n",
    "create database if not exists data_management_crush_course;\n",
    "\n",
    "\"\"\")"
   ]
  },
  {
   "cell_type": "code",
   "execution_count": 5,
   "metadata": {},
   "outputs": [
    {
     "name": "stderr",
     "output_type": "stream",
     "text": [
      "METASTORE_FILTER_HOOK will be ignored, since hive.security.authorization.manager is set to instance of HiveAuthorizerFactory.\n",
      "HiveConf of name hive.internal.ss.authz.settings.applied.marker does not exist\n",
      "HiveConf of name hive.stats.jdbc.timeout does not exist\n",
      "HiveConf of name hive.stats.retries.wait does not exist\n"
     ]
    },
    {
     "data": {
      "text/plain": [
       "DataFrame[]"
      ]
     },
     "execution_count": 5,
     "metadata": {},
     "output_type": "execute_result"
    }
   ],
   "source": [
    "# テーブルの作成をします。\n",
    "# 今回はCSVに一致した「jinko_table」Sparkテーブルを作成します\n",
    "# 定義はMysqlに格納されています（次のセクションで確認を行います）\n",
    "\n",
    "spark.sql(\"\"\" \n",
    "CREATE TABLE IF NOT EXISTS data_management_crush_course.jinko_table (code String, gengo String,wareki String,seireki String,chu String,sokei String,jinko_male String,jinko_femail String)\n",
    "PARTITIONED BY (kenmei String)\n",
    "STORED AS PARQUET\n",
    "LOCATION '/Users/saitouyuuki/Desktop/src/pyspark_dataprofiling_dataquality/dataset/data_management_crush_course.db/jinko_table';\n",
    "\"\"\")\n",
    "\n",
    "# locationとは実データが保存される領域です。\n",
    "# locationは一般に\n",
    "# DB.db/テーブル名\n",
    "# となることが多いです。\n"
   ]
  },
  {
   "cell_type": "code",
   "execution_count": 6,
   "metadata": {},
   "outputs": [
    {
     "data": {
      "text/plain": [
       "DataFrame[]"
      ]
     },
     "execution_count": 6,
     "metadata": {},
     "output_type": "execute_result"
    }
   ],
   "source": [
    "# もう一つセクション５のためにテーブルを作成しておきます\n",
    "# 作業用のためCSV形式で作成を行います\n",
    "\n",
    "spark.sql(\"\"\" \n",
    "CREATE TABLE IF NOT EXISTS data_management_crush_course.jinko_code (code String, kenmei String)\n",
    "row format delimited\n",
    "fields terminated by ','\n",
    "lines terminated by '\\n'\n",
    "LOCATION '/Users/saitouyuuki/Desktop/src/pyspark_dataprofiling_dataquality/dataset/data_management_crush_course.db/jinko_code';\n",
    "\"\"\")"
   ]
  },
  {
   "cell_type": "code",
   "execution_count": 7,
   "metadata": {},
   "outputs": [
    {
     "name": "stdout",
     "output_type": "stream",
     "text": [
      "+----------------------------+-----------+-----------+\n",
      "|namespace                   |tableName  |isTemporary|\n",
      "+----------------------------+-----------+-----------+\n",
      "|data_management_crush_course|jinko_code |false      |\n",
      "|data_management_crush_course|jinko_table|false      |\n",
      "+----------------------------+-----------+-----------+\n",
      "\n"
     ]
    }
   ],
   "source": [
    "# 作成したSparkテーブルの一覧を確認することができます\n",
    "# 定義はMysqlに保存されているのでMysqlから内部的には引っ張り出してきています。\n",
    "spark.sql(\"show tables in   data_management_crush_course\").show(truncate=False)"
   ]
  },
  {
   "cell_type": "code",
   "execution_count": 8,
   "metadata": {},
   "outputs": [
    {
     "name": "stdout",
     "output_type": "stream",
     "text": [
      "+-----------------------------------------------------------------------------------------------------------------------------------------------------------------------------------------------------------------------------------------------------------------------------------------------------------------------------------------------------------------------------------------------------------------------------------------------------------------------------------------------+\n",
      "|createtab_stmt                                                                                                                                                                                                                                                                                                                                                                                                                                                                                 |\n",
      "+-----------------------------------------------------------------------------------------------------------------------------------------------------------------------------------------------------------------------------------------------------------------------------------------------------------------------------------------------------------------------------------------------------------------------------------------------------------------------------------------------+\n",
      "|CREATE TABLE `data_management_crush_course`.`jinko_table` (\\n  `code` STRING,\\n  `gengo` STRING,\\n  `wareki` STRING,\\n  `seireki` STRING,\\n  `chu` STRING,\\n  `sokei` STRING,\\n  `jinko_male` STRING,\\n  `jinko_femail` STRING,\\n  `kenmei` STRING)\\nUSING parquet\\nPARTITIONED BY (kenmei)\\nLOCATION 'file:/Users/saitouyuuki/Desktop/src/pyspark_dataprofiling_dataquality/dataset/data_management_crush_course.db/jinko_table'\\nTBLPROPERTIES (\\n  'transient_lastDdlTime' = '1637574120')\\n|\n",
      "+-----------------------------------------------------------------------------------------------------------------------------------------------------------------------------------------------------------------------------------------------------------------------------------------------------------------------------------------------------------------------------------------------------------------------------------------------------------------------------------------------+\n",
      "\n"
     ]
    }
   ],
   "source": [
    "# テーブルの定義を確認することができます。\n",
    "spark.sql(\"show create table data_management_crush_course.jinko_table\").show(truncate=False)"
   ]
  },
  {
   "cell_type": "code",
   "execution_count": 9,
   "metadata": {},
   "outputs": [
    {
     "name": "stderr",
     "output_type": "stream",
     "text": []
    },
    {
     "data": {
      "text/plain": [
       "DataFrame[]"
      ]
     },
     "execution_count": 9,
     "metadata": {},
     "output_type": "execute_result"
    }
   ],
   "source": [
    "# テーブルにデータを登録します\n",
    "# insertIntoというメソッドがありますが使いづらいのでテンポラリテーブルを作成してそこからselect insert します\n",
    "\n",
    "data_t.createOrReplaceTempView(\"jinko_table_tmp\")\n",
    "\n",
    "#「データサイエンスのための前処理入門PythonとSparkで学ぶビッグデータエンジニアリング(PySpark) 速習講座」  \n",
    "#https://www.udemy.com/course/python-spark-pyspark/?referralCode=E67BF8B61F65866794EB\n",
    "#より、パーティションとリパーティションをつけることを忘れずに\n",
    "spark.sql(\"\"\" \n",
    "Insert overwrite table data_management_crush_course.jinko_table partition(kenmei)\n",
    "/** REPARTITION(1) */\n",
    "Select \n",
    "code,gengo,wareki,seireki,chu,sokei,jinko_male,jinko_female,kenmei\n",
    "from jinko_table_tmp\n",
    "  \"\"\")"
   ]
  },
  {
   "cell_type": "code",
   "execution_count": 10,
   "metadata": {},
   "outputs": [
    {
     "name": "stdout",
     "output_type": "stream",
     "text": [
      "+----------------------+--------+\n",
      "|                kenmei|count(1)|\n",
      "+----------------------+--------+\n",
      "|人口集中地区以外の地区|       6|\n",
      "|          人口集中地区|       6|\n",
      "|                  全国|       6|\n",
      "|                東京都|       6|\n",
      "|                千葉県|       6|\n",
      "|                埼玉県|       6|\n",
      "|              神奈川県|       6|\n",
      "|                長野県|       6|\n",
      "|                福岡県|       6|\n",
      "|                愛知県|       6|\n",
      "|                兵庫県|       6|\n",
      "|                大阪府|       6|\n",
      "|                静岡県|       6|\n",
      "|                宮城県|       6|\n",
      "|                北海道|       6|\n",
      "|                栃木県|       6|\n",
      "|                京都府|       6|\n",
      "|                新潟県|       6|\n",
      "|                茨城県|       6|\n",
      "|                福島県|       6|\n",
      "+----------------------+--------+\n",
      "only showing top 20 rows\n",
      "\n"
     ]
    }
   ],
   "source": [
    "# データがしっかり入っているか確認してみましょう\n",
    "spark.sql(\"\"\"\n",
    "select kenmei,count(*) from data_management_crush_course.jinko_table group by kenmei\n",
    "\"\"\").show()\n"
   ]
  },
  {
   "cell_type": "code",
   "execution_count": 12,
   "metadata": {},
   "outputs": [
    {
     "data": {
      "text/plain": [
       "DataFrame[]"
      ]
     },
     "execution_count": 12,
     "metadata": {},
     "output_type": "execute_result"
    }
   ],
   "source": [
    "# jinko_codeテーブルにデータを登録します\n",
    "# insertIntoというメソッドがありますが使いづらいのでテンポラリテーブルを作成してそこからselect insert します\n",
    "\n",
    "data_t.createOrReplaceTempView(\"jinko_table_tmp\")\n",
    "\n",
    "#「データサイエンスのための前処理入門PythonとSparkで学ぶビッグデータエンジニアリング(PySpark) 速習講座」  \n",
    "#https://www.udemy.com/course/python-spark-pyspark/?referralCode=E67BF8B61F65866794EB\n",
    "#より、パーティションとリパーティションをつけることを忘れずに\n",
    "spark.sql(\"\"\" \n",
    "Insert overwrite table data_management_crush_course.jinko_code\n",
    "/** REPARTITION(1) */\n",
    "Select \n",
    "case \n",
    "when kenmei='神奈川県' then 'AA'\n",
    "else code\n",
    "END as code,\n",
    "kenmei\n",
    "from jinko_table_tmp\n",
    "\n",
    "where kenmei!='全国'\n",
    "  \"\"\")\n",
    "\n",
    "# のちの作業のために「全国」と「神奈川のコード」だけ変更します"
   ]
  },
  {
   "cell_type": "code",
   "execution_count": 14,
   "metadata": {},
   "outputs": [
    {
     "name": "stdout",
     "output_type": "stream",
     "text": [
      "+----+----------------------+\n",
      "|code|                kenmei|\n",
      "+----+----------------------+\n",
      "|  0A|          人口集中地区|\n",
      "|  0B|人口集中地区以外の地区|\n",
      "|  01|                北海道|\n",
      "|  02|                青森県|\n",
      "|  03|                岩手県|\n",
      "|  04|                宮城県|\n",
      "|  05|                秋田県|\n",
      "|  06|                山形県|\n",
      "|  07|                福島県|\n",
      "|  08|                茨城県|\n",
      "|  09|                栃木県|\n",
      "|  10|                群馬県|\n",
      "|  11|                埼玉県|\n",
      "|  12|                千葉県|\n",
      "|  13|                東京都|\n",
      "|  AA|              神奈川県|\n",
      "|  15|                新潟県|\n",
      "|  16|                富山県|\n",
      "|  17|                石川県|\n",
      "|  18|                福井県|\n",
      "+----+----------------------+\n",
      "only showing top 20 rows\n",
      "\n"
     ]
    }
   ],
   "source": [
    "# jinko_code\n",
    "spark.sql(\"select * from data_management_crush_course.jinko_code\").show()"
   ]
  },
  {
   "cell_type": "code",
   "execution_count": 15,
   "metadata": {},
   "outputs": [
    {
     "name": "stderr",
     "output_type": "stream",
     "text": [
      "Tue Nov 23 12:27:55 JST 2021 WARN: Establishing SSL connection without server's identity verification is not recommended. According to MySQL 5.5.45+, 5.6.26+ and 5.7.6+ requirements SSL connection must be established by default if explicit option isn't set. For compliance with existing applications not using SSL the verifyServerCertificate property is set to 'false'. You need either to explicitly disable SSL by setting useSSL=false, or set useSSL=true and provide truststore for server certificate verification.\n",
      "Tue Nov 23 12:27:55 JST 2021 WARN: Establishing SSL connection without server's identity verification is not recommended. According to MySQL 5.5.45+, 5.6.26+ and 5.7.6+ requirements SSL connection must be established by default if explicit option isn't set. For compliance with existing applications not using SSL the verifyServerCertificate property is set to 'false'. You need either to explicitly disable SSL by setting useSSL=false, or set useSSL=true and provide truststore for server certificate verification.\n",
      "Tue Nov 23 12:28:55 JST 2021 WARN: Establishing SSL connection without server's identity verification is not recommended. According to MySQL 5.5.45+, 5.6.26+ and 5.7.6+ requirements SSL connection must be established by default if explicit option isn't set. For compliance with existing applications not using SSL the verifyServerCertificate property is set to 'false'. You need either to explicitly disable SSL by setting useSSL=false, or set useSSL=true and provide truststore for server certificate verification.\n",
      "Tue Nov 23 12:28:55 JST 2021 WARN: Establishing SSL connection without server's identity verification is not recommended. According to MySQL 5.5.45+, 5.6.26+ and 5.7.6+ requirements SSL connection must be established by default if explicit option isn't set. For compliance with existing applications not using SSL the verifyServerCertificate property is set to 'false'. You need either to explicitly disable SSL by setting useSSL=false, or set useSSL=true and provide truststore for server certificate verification.\n",
      "Tue Nov 23 13:27:55 JST 2021 WARN: Establishing SSL connection without server's identity verification is not recommended. According to MySQL 5.5.45+, 5.6.26+ and 5.7.6+ requirements SSL connection must be established by default if explicit option isn't set. For compliance with existing applications not using SSL the verifyServerCertificate property is set to 'false'. You need either to explicitly disable SSL by setting useSSL=false, or set useSSL=true and provide truststore for server certificate verification.\n",
      "Tue Nov 23 13:27:55 JST 2021 WARN: Establishing SSL connection without server's identity verification is not recommended. According to MySQL 5.5.45+, 5.6.26+ and 5.7.6+ requirements SSL connection must be established by default if explicit option isn't set. For compliance with existing applications not using SSL the verifyServerCertificate property is set to 'false'. You need either to explicitly disable SSL by setting useSSL=false, or set useSSL=true and provide truststore for server certificate verification.\n",
      "Tue Nov 23 13:28:55 JST 2021 WARN: Establishing SSL connection without server's identity verification is not recommended. According to MySQL 5.5.45+, 5.6.26+ and 5.7.6+ requirements SSL connection must be established by default if explicit option isn't set. For compliance with existing applications not using SSL the verifyServerCertificate property is set to 'false'. You need either to explicitly disable SSL by setting useSSL=false, or set useSSL=true and provide truststore for server certificate verification.\n",
      "Tue Nov 23 13:28:55 JST 2021 WARN: Establishing SSL connection without server's identity verification is not recommended. According to MySQL 5.5.45+, 5.6.26+ and 5.7.6+ requirements SSL connection must be established by default if explicit option isn't set. For compliance with existing applications not using SSL the verifyServerCertificate property is set to 'false'. You need either to explicitly disable SSL by setting useSSL=false, or set useSSL=true and provide truststore for server certificate verification.\n",
      "Tue Nov 23 14:27:55 JST 2021 WARN: Establishing SSL connection without server's identity verification is not recommended. According to MySQL 5.5.45+, 5.6.26+ and 5.7.6+ requirements SSL connection must be established by default if explicit option isn't set. For compliance with existing applications not using SSL the verifyServerCertificate property is set to 'false'. You need either to explicitly disable SSL by setting useSSL=false, or set useSSL=true and provide truststore for server certificate verification.\n",
      "Tue Nov 23 14:27:55 JST 2021 WARN: Establishing SSL connection without server's identity verification is not recommended. According to MySQL 5.5.45+, 5.6.26+ and 5.7.6+ requirements SSL connection must be established by default if explicit option isn't set. For compliance with existing applications not using SSL the verifyServerCertificate property is set to 'false'. You need either to explicitly disable SSL by setting useSSL=false, or set useSSL=true and provide truststore for server certificate verification.\n",
      "Tue Nov 23 14:28:55 JST 2021 WARN: Establishing SSL connection without server's identity verification is not recommended. According to MySQL 5.5.45+, 5.6.26+ and 5.7.6+ requirements SSL connection must be established by default if explicit option isn't set. For compliance with existing applications not using SSL the verifyServerCertificate property is set to 'false'. You need either to explicitly disable SSL by setting useSSL=false, or set useSSL=true and provide truststore for server certificate verification.\n",
      "Tue Nov 23 14:28:55 JST 2021 WARN: Establishing SSL connection without server's identity verification is not recommended. According to MySQL 5.5.45+, 5.6.26+ and 5.7.6+ requirements SSL connection must be established by default if explicit option isn't set. For compliance with existing applications not using SSL the verifyServerCertificate property is set to 'false'. You need either to explicitly disable SSL by setting useSSL=false, or set useSSL=true and provide truststore for server certificate verification.\n",
      "Tue Nov 23 15:27:55 JST 2021 WARN: Establishing SSL connection without server's identity verification is not recommended. According to MySQL 5.5.45+, 5.6.26+ and 5.7.6+ requirements SSL connection must be established by default if explicit option isn't set. For compliance with existing applications not using SSL the verifyServerCertificate property is set to 'false'. You need either to explicitly disable SSL by setting useSSL=false, or set useSSL=true and provide truststore for server certificate verification.\n",
      "Tue Nov 23 15:27:55 JST 2021 WARN: Establishing SSL connection without server's identity verification is not recommended. According to MySQL 5.5.45+, 5.6.26+ and 5.7.6+ requirements SSL connection must be established by default if explicit option isn't set. For compliance with existing applications not using SSL the verifyServerCertificate property is set to 'false'. You need either to explicitly disable SSL by setting useSSL=false, or set useSSL=true and provide truststore for server certificate verification.\n",
      "Tue Nov 23 15:28:55 JST 2021 WARN: Establishing SSL connection without server's identity verification is not recommended. According to MySQL 5.5.45+, 5.6.26+ and 5.7.6+ requirements SSL connection must be established by default if explicit option isn't set. For compliance with existing applications not using SSL the verifyServerCertificate property is set to 'false'. You need either to explicitly disable SSL by setting useSSL=false, or set useSSL=true and provide truststore for server certificate verification.\n",
      "Tue Nov 23 15:28:55 JST 2021 WARN: Establishing SSL connection without server's identity verification is not recommended. According to MySQL 5.5.45+, 5.6.26+ and 5.7.6+ requirements SSL connection must be established by default if explicit option isn't set. For compliance with existing applications not using SSL the verifyServerCertificate property is set to 'false'. You need either to explicitly disable SSL by setting useSSL=false, or set useSSL=true and provide truststore for server certificate verification.\n"
     ]
    }
   ],
   "source": [
    "# 最後はSparkをクローズする\n",
    "spark.stop()\n",
    "spark.sparkContext.stop()"
   ]
  }
 ],
 "metadata": {
  "interpreter": {
   "hash": "cadefa720d1a2267f4d12d08d812560a64cfe891877bc388bf0e8af3e4846067"
  },
  "kernelspec": {
   "display_name": "Python 3.8.0 64-bit",
   "name": "python3"
  },
  "language_info": {
   "codemirror_mode": {
    "name": "ipython",
    "version": 3
   },
   "file_extension": ".py",
   "mimetype": "text/x-python",
   "name": "python",
   "nbconvert_exporter": "python",
   "pygments_lexer": "ipython3",
   "version": "3.9.1"
  },
  "orig_nbformat": 2
 },
 "nbformat": 4,
 "nbformat_minor": 2
}
